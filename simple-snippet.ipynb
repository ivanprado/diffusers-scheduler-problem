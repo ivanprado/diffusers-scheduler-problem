{
 "cells": [
  {
   "cell_type": "code",
   "execution_count": null,
   "metadata": {},
   "outputs": [],
   "source": [
    "from diffusers import AutoPipelineForText2Image\n",
    "from diffusers.schedulers import DPMSolverMultistepScheduler\n",
    "import torch\n",
    "\n",
    "model_id = \"frankjoshua/juggernautXL_version6Rundiffusion\"\n",
    "pipeline = AutoPipelineForText2Image.from_pretrained(\n",
    "    model_id, \n",
    "    torch_dtype=torch.float16,\n",
    "    variant=\"fp16\",\n",
    "    use_safetensors=True,\n",
    ").to(\"cuda\")\n",
    "\n",
    "pipeline.scheduler = DPMSolverMultistepScheduler.from_config(\n",
    "        pipeline.scheduler.config, \n",
    "        use_karras_sigmas=True,\n",
    "        sde_type=\"sde-dpmsolver++\",\n",
    "        euler_at_final=True,\n",
    "        use_lu_lambdas=True\n",
    "        )\n",
    "\n",
    "prompt = \"Adorable infant playing with a variety of colorful rattle toys.\"\n",
    "\n",
    "results = pipeline(\n",
    "    prompt=prompt, \n",
    "    guidance_scale=3,\n",
    "    generator=torch.Generator(device=\"cuda\").manual_seed(42),  \n",
    "    num_inference_steps=25, \n",
    "    height=768, \n",
    "    width=1344)\n",
    "display(results.images[0])"
   ]
  }
 ],
 "metadata": {
  "kernelspec": {
   "display_name": "diffusers_test",
   "language": "python",
   "name": "python3"
  },
  "language_info": {
   "codemirror_mode": {
    "name": "ipython",
    "version": 3
   },
   "file_extension": ".py",
   "mimetype": "text/x-python",
   "name": "python",
   "nbconvert_exporter": "python",
   "pygments_lexer": "ipython3",
   "version": "3.10.13"
  }
 },
 "nbformat": 4,
 "nbformat_minor": 2
}
